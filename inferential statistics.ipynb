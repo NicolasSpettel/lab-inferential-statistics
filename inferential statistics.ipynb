{
 "cells": [
  {
   "cell_type": "markdown",
   "id": "b158c301",
   "metadata": {},
   "source": [
    "# Lab | Inferential statistics"
   ]
  },
  {
   "cell_type": "markdown",
   "id": "a24a473e",
   "metadata": {},
   "source": [
    "## It is assumed that the mean systolic blood pressure is μ = 120 mm Hg. In the Honolulu Heart Study, a sample of n = 100 people had an average systolic blood pressure of 130.1 mm Hg with a standard deviation of 21.21 mm Hg. Is the group significantly different (with respect to systolic blood pressure!) from the regular population?\n",
    "* Set up the hypothesis test.\n",
    "* Write down all the steps followed for setting up the test.\n",
    "* Calculate the test statistic by hand and also code it in Python. It should be 4.76190. We will take a look at how to make decisions based on this calculated value."
   ]
  },
  {
   "cell_type": "markdown",
   "id": "2bd190fc",
   "metadata": {},
   "source": [
    "H0: The group is significantly different from the regular population"
   ]
  },
  {
   "cell_type": "code",
   "execution_count": 14,
   "id": "dad4b778",
   "metadata": {},
   "outputs": [],
   "source": [
    "import math as m\n",
    "import pandas as pd"
   ]
  },
  {
   "cell_type": "code",
   "execution_count": 8,
   "id": "cbde300e",
   "metadata": {},
   "outputs": [],
   "source": [
    "μ = 120\n",
    "n = 100\n",
    "sysBP = 130.1\n",
    "std = 21.21\n",
    "alpha = 1.96"
   ]
  },
  {
   "cell_type": "code",
   "execution_count": 9,
   "id": "53591252",
   "metadata": {},
   "outputs": [
    {
     "data": {
      "text/plain": [
       "4.761904761904759"
      ]
     },
     "execution_count": 9,
     "metadata": {},
     "output_type": "execute_result"
    }
   ],
   "source": [
    "z = (sysBP - μ) / (std/m.sqrt(n))\n",
    "z"
   ]
  },
  {
   "cell_type": "markdown",
   "id": "da399fff",
   "metadata": {},
   "source": [
    "The z score for our sample data 4.76 is bigger than the alpha 1.96, therefore we reject the null hypothesis."
   ]
  }
 ],
 "metadata": {
  "kernelspec": {
   "display_name": "Python 3 (ipykernel)",
   "language": "python",
   "name": "python3"
  },
  "language_info": {
   "codemirror_mode": {
    "name": "ipython",
    "version": 3
   },
   "file_extension": ".py",
   "mimetype": "text/x-python",
   "name": "python",
   "nbconvert_exporter": "python",
   "pygments_lexer": "ipython3",
   "version": "3.9.7"
  }
 },
 "nbformat": 4,
 "nbformat_minor": 5
}
